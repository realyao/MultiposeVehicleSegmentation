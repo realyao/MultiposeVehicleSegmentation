{
 "cells": [
  {
   "cell_type": "code",
   "execution_count": null,
   "metadata": {
    "_cell_guid": "b1076dfc-b9ad-4769-8c92-a6c4dae69d19",
    "_uuid": "8f2839f25d086af736a60e9eeb907d3b93b6e0e5",
    "collapsed": true
   },
   "outputs": [],
   "source": [
    "import numpy as np # linear algebra\n",
    "import pandas as pd # data processing, CSV file I/O (e.g. pd.read_csv)\n",
    "from glob import glob # For pathname matching\n",
    "from skimage.transform import resize\n",
    "from keras import backend as K\n",
    "from sklearn.model_selection import train_test_split\n",
    "from keras.models import Sequential, Model \n",
    "from keras.layers import Input, Conv2D, MaxPooling2D, UpSampling2D, Flatten,concatenate\n",
    "from keras.callbacks import ModelCheckpoint\n",
    "from keras.optimizers import Adam\n",
    "import cv2\n",
    "\n",
    "from PIL import Image\n",
    "from scipy import ndimage\n",
    "import matplotlib.pyplot as plt\n",
    "from scipy.misc import imresize\n",
    "\n",
    "from time import time\n",
    "import warnings\n",
    "warnings.filterwarnings(\"ignore\", category=DeprecationWarning) \n",
    "from matplotlib.pyplot import rc\n",
    "font = {'family' : 'monospace',\n",
    "        'weight' : 'bold',\n",
    "        'size'   : 12}\n",
    "rc('font', **font)  # pass in the font dict as kwargs\n",
    "K.set_image_dim_ordering('th')\n",
    "\n",
    "import os\n",
    "from os.path import basename\n",
    "print(os.listdir(\"../input\"))\n",
    "print(os.listdir(\"../\"))\n",
    "# Any results you write to the current directory are saved as output."
   ]
  },
  {
   "cell_type": "code",
   "execution_count": null,
   "metadata": {
    "_cell_guid": "79c7e3d0-c299-4dcb-8224-4455121ee9b0",
    "_uuid": "d629ff2d2480ee46fbb7e2d37f6b5fab8052498a",
    "collapsed": true
   },
   "outputs": [],
   "source": [
    "input_folder = '../input'\n",
    "\n",
    "train= glob('/'.join([input_folder,'train/*.jpg']))\n",
    "train_masks= glob('/'.join([input_folder,'train_masks/*.gif']))\n",
    "test= glob('/'.join([input_folder,'test/*.jpg']))\n",
    "print('Number of training images: ', len(train), 'Number of corresponding masks: ', len(train_masks), 'Number of test images: ', len(test))"
   ]
  },
  {
   "cell_type": "code",
   "execution_count": null,
   "metadata": {
    "_uuid": "8e2333282af5900555e5f9b3a7c83833c3a4e318",
    "collapsed": true
   },
   "outputs": [],
   "source": [
    "tt_ratio = 0.8\n",
    "img_rows, img_cols = 1024,1024\n",
    "batch_size = 8\n",
    "def dice_coef(y_true, y_pred, smooth=0):\n",
    "    y_true_f = K.flatten(y_true)\n",
    "    y_pred_f = K.flatten(y_pred)\n",
    "    intersection=K.sum(y_true_f * y_pred_f)\n",
    "    return(2. * intersection + smooth) / ((K.sum(y_true_f) + K.sum(y_pred_f)) + smooth)"
   ]
  },
  {
   "cell_type": "code",
   "execution_count": null,
   "metadata": {
    "_uuid": "531d58c84515a4cddc5679a989e9ccac44072972",
    "collapsed": true
   },
   "outputs": [],
   "source": [
    "#split the training set into train and validation samples\n",
    "train_images, validation_images = train_test_split(train, train_size=tt_ratio, test_size=1-tt_ratio)\n",
    "print('Size of the training sample=', len(train_images), 'and size of the validation sample=', len(validation_images), ' images')\n"
   ]
  },
  {
   "cell_type": "code",
   "execution_count": null,
   "metadata": {
    "_uuid": "e03c7299b64e23994c874e5f361e0190727b1e77",
    "collapsed": true
   },
   "outputs": [],
   "source": [
    "#utility function to convert greyscale inages to rgb\n",
    "def grey2rgb(img):\n",
    "    new_img = []\n",
    "    for i in range(img.shape[0]):\n",
    "        for j in range(img.shape[1]):\n",
    "            new_img.append(list(img[i][j])*3)\n",
    "    new_img = np.array(new_img).reshape(img.shape[0], img.shape[1], 3)\n",
    "    return new_img\n",
    "\n",
    "#generator that will be used to read data from the directory\n",
    "def data_generator(data_dir, masks, images, dims, batch_size=batch_size):\n",
    "    while True:\n",
    "        ix=np.random.choice(np.arange(len(images)), batch_size)\n",
    "        imgs = []\n",
    "        labels = []\n",
    "        for i in ix:\n",
    "            # images\n",
    "            original_img = cv2.imread(images[i])\n",
    "            resized_img = imresize(original_img, dims + [3]) \n",
    "            array_img = resized_img/255\n",
    "            array_img = array_img.swapaxes(0, 2)\n",
    "            imgs.append(array_img)\n",
    "            #imgs is a numpy array with dim: (batch size X 128 X 128 3)\n",
    "            #print('shape of imgs ', array_img.shape)\n",
    "            # masks\n",
    "            try:\n",
    "                mask_filename = basename(images[i])\n",
    "                file_name = os.path.splitext(mask_filename)[0]\n",
    "                correct_mask = '/'.join([input_folder,'train_masks',file_name+'_mask.gif'])\n",
    "                original_mask = Image.open(correct_mask).convert('L')\n",
    "                data = np.asarray(original_mask, dtype=\"int32\")\n",
    "                resized_mask = imresize(original_mask, dims+[3])\n",
    "                array_mask = resized_mask / 255\n",
    "                labels.append(array_mask)\n",
    "            except Exception as e:\n",
    "                labels=None\n",
    "            \n",
    "        imgs = np.array(imgs)\n",
    "        labels = np.array(labels)\n",
    "        try:\n",
    "            relabel = labels.reshape(-1, dims[0], dims[1], 1)\n",
    "            relabel = relabel.swapaxes(1, 3)\n",
    "        except Exception as e:\n",
    "            relabel=labels\n",
    "        yield imgs, relabel"
   ]
  },
  {
   "cell_type": "code",
   "execution_count": null,
   "metadata": {
    "_kg_hide-input": false,
    "_uuid": "474d9db54a8b8c5a232852d92f5c0f6d4f599727",
    "collapsed": true,
    "scrolled": true
   },
   "outputs": [],
   "source": [
    "train_gen = data_generator('train/', train_masks, train_images, dims=[img_rows, img_cols])\n",
    "img, msk = next(train_gen)\n",
    "train_img = img[0].swapaxes(0,2)\n",
    "train_msk = msk.swapaxes(1,3)\n",
    "\n",
    "fig, ax = plt.subplots(1,2, figsize=(16, 16))\n",
    "ax = ax.ravel()\n",
    "ax[0].imshow(train_img, cmap='gray') \n",
    "ax[0].set_title('Training Image')\n",
    "ax[1].imshow(grey2rgb(train_msk[0]), cmap='gray')\n",
    "ax[1].set_title('Training Image mask')"
   ]
  },
  {
   "cell_type": "code",
   "execution_count": null,
   "metadata": {
    "_uuid": "fc4cea2700e2ee06acb154c36c6e0278b0e184c3",
    "collapsed": true
   },
   "outputs": [],
   "source": [
    "# create an instance of a validation generator:\n",
    "validation_gen = data_generator('train/', train_masks, validation_images, dims=[img_rows, img_cols]) \n"
   ]
  },
  {
   "cell_type": "code",
   "execution_count": null,
   "metadata": {
    "_uuid": "365855c4388559f17c0d8c6a6dffb6b44b51e116",
    "collapsed": true
   },
   "outputs": [],
   "source": [
    "def unet(input_size = (3,img_rows,img_cols)):\n",
    "    input_ = Input(input_size)\n",
    "    conv0 = Conv2D(8, 3, activation = 'relu', padding = 'same', kernel_initializer = 'he_normal')(input_)\n",
    "    conv0 = Conv2D(8, 3, activation = 'relu', padding = 'same', kernel_initializer = 'he_normal')(conv0)\n",
    "    pool0 = MaxPooling2D(pool_size=(2, 2))(conv0)\n",
    "    \n",
    "    conv1 = Conv2D(16, 3, activation = 'relu', padding = 'same', kernel_initializer = 'he_normal')(pool0)\n",
    "    conv1 = Conv2D(16, 3, activation = 'relu', padding = 'same', kernel_initializer = 'he_normal')(conv1)\n",
    "    pool1 = MaxPooling2D(pool_size=(2, 2))(conv1)\n",
    "    \n",
    "    conv2 = Conv2D(32, 3, activation = 'relu', padding = 'same', kernel_initializer = 'he_normal')(pool1)\n",
    "    conv2 = Conv2D(32, 3, activation = 'relu', padding = 'same', kernel_initializer = 'he_normal')(conv2)\n",
    "    pool2 = MaxPooling2D(pool_size=(2, 2))(conv2)\n",
    "    \n",
    "    conv3 = Conv2D(64, 3, activation = 'relu', padding = 'same', kernel_initializer = 'he_normal')(pool2)\n",
    "    conv3 = Conv2D(64, 3, activation = 'relu', padding = 'same', kernel_initializer = 'he_normal')(conv3)\n",
    "    pool3 = MaxPooling2D(pool_size=(2, 2))(conv3)\n",
    "    \n",
    "    conv4 = Conv2D(128, 3, activation = 'relu', padding = 'same', kernel_initializer = 'he_normal')(pool3)\n",
    "    conv4 = Conv2D(128, 3, activation = 'relu', padding = 'same', kernel_initializer = 'he_normal')(conv4)\n",
    "    pool4 = MaxPooling2D(pool_size=(2, 2))(conv4)\n",
    "\n",
    "    conv5 = Conv2D(256, 3, activation = 'relu', padding = 'same', kernel_initializer = 'he_normal')(pool4)\n",
    "    conv5 = Conv2D(256, 3, activation = 'relu', padding = 'same', kernel_initializer = 'he_normal')(conv5)\n",
    "\n",
    "    up6 = Conv2D(128, 2, activation = 'relu', padding = 'same', kernel_initializer = 'he_normal')(UpSampling2D(size = (2,2))(conv5))\n",
    "    merge6 = concatenate([conv4,up6], axis = 1)\n",
    "    conv6 = Conv2D(128, 3, activation = 'relu', padding = 'same', kernel_initializer = 'he_normal')(merge6)\n",
    "    conv6 = Conv2D(128, 3, activation = 'relu', padding = 'same', kernel_initializer = 'he_normal')(conv6)\n",
    "\n",
    "    up7 = Conv2D(64, 2, activation = 'relu', padding = 'same', kernel_initializer = 'he_normal')(UpSampling2D(size = (2,2))(conv6))\n",
    "    merge7 = concatenate([conv3,up7], axis = 1)\n",
    "    conv7 = Conv2D(64, 3, activation = 'relu', padding = 'same', kernel_initializer = 'he_normal')(merge7)\n",
    "    conv7 = Conv2D(64, 3, activation = 'relu', padding = 'same', kernel_initializer = 'he_normal')(conv7)\n",
    "\n",
    "    up8 = Conv2D(32, 2, activation = 'relu', padding = 'same', kernel_initializer = 'he_normal')(UpSampling2D(size = (2,2))(conv7))\n",
    "    merge8 = concatenate([conv2,up8], axis = 1)\n",
    "    conv8 = Conv2D(32, 3, activation = 'relu', padding = 'same', kernel_initializer = 'he_normal')(merge8)\n",
    "    conv8 = Conv2D(32, 3, activation = 'relu', padding = 'same', kernel_initializer = 'he_normal')(conv8)\n",
    "\n",
    "    up9 = Conv2D(16, 2, activation = 'relu', padding = 'same', kernel_initializer = 'he_normal')(UpSampling2D(size = (2,2))(conv8))\n",
    "    merge9 = concatenate([conv1,up9], axis = 1)\n",
    "    conv9 = Conv2D(16, 3, activation = 'relu', padding = 'same', kernel_initializer = 'he_normal')(merge9)\n",
    "    conv9 = Conv2D(16, 3, activation = 'relu', padding = 'same', kernel_initializer = 'he_normal')(conv9)\n",
    "    \n",
    "    up10 = Conv2D(16, 2, activation = 'relu', padding = 'same', kernel_initializer = 'he_normal')(UpSampling2D(size = (2,2))(conv9))\n",
    "\n",
    "    conv10 = Conv2D(8, 3, activation = 'relu', padding = 'same', kernel_initializer = 'he_normal')(up10)\n",
    "    conv11 = Conv2D(1, 1, activation = 'sigmoid')(conv10)\n",
    "\n",
    "    model = Model(input = input_, outputs = conv11)\n",
    "    \n",
    "    model.compile(optimizer= Adam(lr=0.0005), loss='binary_crossentropy', metrics=[dice_coef])\n",
    "    \n",
    "    return model"
   ]
  },
  {
   "cell_type": "code",
   "execution_count": null,
   "metadata": {
    "_uuid": "fc9c2011201c43bcd2beb30aa75f5e1c983bed92",
    "collapsed": true
   },
   "outputs": [],
   "source": [
    "# Build and compile the model\n",
    "model = unet()\n",
    "model.summary()\n",
    "\n",
    "model.load_weights('saved_model.h5')"
   ]
  },
  {
   "cell_type": "code",
   "execution_count": null,
   "metadata": {
    "_uuid": "63a3bd4cd0ce4ac55b15b536f8f195540e2d99be",
    "collapsed": true
   },
   "outputs": [],
   "source": [
    "# Fit the model to the training set and compute dice coefficient at each validation set\n",
    "model_save = ModelCheckpoint('best_model.hdf5', save_best_only=True, monitor='val_loss', mode='min')\n",
    "\n",
    "model_run = model.fit_generator(train_gen, steps_per_epoch=50, epochs=60, validation_data=validation_gen, validation_steps=50, callbacks=[model_save])\n",
    "\n",
    "model.save(\"saved_model.h5\")"
   ]
  },
  {
   "cell_type": "code",
   "execution_count": null,
   "metadata": {
    "_uuid": "12dd76495244e402c32cf30dfbe926b366402f3c",
    "collapsed": true
   },
   "outputs": [],
   "source": [
    "pd.DataFrame(model_run.history)[['dice_coef','val_dice_coef']].plot()"
   ]
  },
  {
   "cell_type": "code",
   "execution_count": null,
   "metadata": {
    "_uuid": "f01dc3e83484c556079a5ee4cc4225f134a8ad99",
    "collapsed": true
   },
   "outputs": [],
   "source": [
    "img, msk = next(validation_gen)\n",
    "predicted_mask = model.predict(img).swapaxes(1,3)\n",
    "validation_image = img[0].swapaxes(0,2)\n",
    "\n",
    "fig, ax = plt.subplots(1,2, figsize=(16, 16))\n",
    "ax = ax.ravel()\n",
    "ax[0].imshow(validation_image, cmap='gray') \n",
    "ax[0].set_title('Validation Image')\n",
    "ax[1].imshow(grey2rgb(predicted_mask[0]), cmap='gray')\n",
    "ax[1].set_title('Validation Image mask')"
   ]
  },
  {
   "cell_type": "code",
   "execution_count": null,
   "metadata": {
    "_uuid": "935366381e8278e70cf56a2aaf34e172693d3332",
    "collapsed": true
   },
   "outputs": [],
   "source": [
    "test_set = data_generator('test/', train_masks, test, dims=[img_rows, img_cols]) \n",
    "img_tst, msk_tst = next(test_set)\n",
    "predicted_mask_tst = model.predict(img_tst)\n",
    "predicted_mask_tst = predicted_mask_tst.swapaxes(1,3)\n",
    "test_mask = grey2rgb(predicted_mask_tst[0])\n",
    "\n",
    "test_image = img_tst[0].swapaxes(0,2)\n",
    "\n",
    "fig, ax = plt.subplots(1,2, figsize=(16, 16))\n",
    "ax = ax.ravel()\n",
    "ax[0].imshow(test_image, cmap='gray') \n",
    "ax[0].set_title('Test Image')\n",
    "ax[1].imshow(test_mask, cmap='gray')\n",
    "ax[1].set_title('Test Image mask')"
   ]
  },
  {
   "cell_type": "code",
   "execution_count": null,
   "metadata": {
    "_uuid": "ef51b8b9220ba5c522d2fe6e289e2f3c82a6a517",
    "collapsed": true
   },
   "outputs": [],
   "source": []
  }
 ],
 "metadata": {
  "kernelspec": {
   "display_name": "Python [default]",
   "language": "python",
   "name": "python3"
  },
  "language_info": {
   "codemirror_mode": {
    "name": "ipython",
    "version": 3
   },
   "file_extension": ".py",
   "mimetype": "text/x-python",
   "name": "python",
   "nbconvert_exporter": "python",
   "pygments_lexer": "ipython3",
   "version": "3.5.2"
  }
 },
 "nbformat": 4,
 "nbformat_minor": 1
}
